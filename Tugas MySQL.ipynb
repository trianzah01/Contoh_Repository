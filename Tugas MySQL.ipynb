{
 "cells": [
  {
   "cell_type": "markdown",
   "metadata": {},
   "source": [
    "# Query Homework MySQL"
   ]
  },
  {
   "cell_type": "markdown",
   "metadata": {},
   "source": [
    "### Soal 1\n",
    "1) Tampilkan daftar 10 kota terpadat di Indonesia. Urutkan data dari kota dengan populasi terbanyak.\n",
    "- Kolom yang diwajibkan tampil adalah id kota, nama kota, kode negara, distrik/provinsi dan populasi."
   ]
  },
  {
   "cell_type": "markdown",
   "metadata": {},
   "source": [
    "### Jawaban 1\n",
    "- select * from city\n",
    "- where CountryCode = 'IDN'\n",
    "- order by population desc\n",
    "- limit 10;"
   ]
  },
  {
   "cell_type": "markdown",
   "metadata": {},
   "source": [
    "---\n",
    "### Soal 2\n",
    "\n",
    "2) Tampilkan daftar 10 kota terpadat di dunia beserta asal negaranya. Urutkan data dari kota dengan populasi terbanyak.\n",
    "- Kolom yang diwajibkan ada minimal adalah id kota, nama kota, distrik/provinsi, nama negara dan populasi."
   ]
  },
  {
   "cell_type": "markdown",
   "metadata": {},
   "source": [
    "### Jawaban 2\n",
    "\n",
    "- select ID, city.name as Nama_Kota, District, country.name as Negara, city.Population\n",
    "    - from city\n",
    "    - inner join country on\n",
    "    - city.countrycode = country.code\n",
    "    - order by population desc\n",
    "    - limit 10;\n",
    "    \n",
    "- select a.id, a.name as nama_kota, a.district, b.name as negara, a.population\n",
    "    - from city as a, country as b\n",
    "    - where a.countrycode = b.code\n",
    "    - order by population desc\n",
    "    - limit 10"
   ]
  },
  {
   "cell_type": "markdown",
   "metadata": {},
   "source": [
    "---\n",
    "### Soal 3\n",
    "3) Tampilkan daftar 10 negara yang tercatat merdeka paling awal. Daftar negara yang tidak diketahui tahun kemerdekaannya, tidak perlu diikutsertakan.\n",
    "- Kolom yang diwajibkan ada minimal adalah kode negara, nama negara, benua, regional dan tahun merdeka (Independence Year)."
   ]
  },
  {
   "cell_type": "markdown",
   "metadata": {},
   "source": [
    "### Jawaban 3\n",
    "- select code, name, continent, region, indepyear as tahun_merdeka from country\n",
    "    - where indepyear != 0\n",
    "    - order by indepyear asc\n",
    "    - limit 10;"
   ]
  },
  {
   "cell_type": "markdown",
   "metadata": {},
   "source": [
    "---\n",
    "### Soal 4\n",
    "\n",
    "4) Tampilkan daftar benua yang memiliki lebih dari 10 negara di dalamnya.\n",
    "- Kolom yang ditampilkan minimal: nama benua, jumlah negara di dalam benua, total populasi dan rata-rata angka harapan hidup (Life Expectancy) kemudian urutkan dari benua yang memiliki populasi terbanyak."
   ]
  },
  {
   "cell_type": "markdown",
   "metadata": {},
   "source": [
    "### Jawaban 4\n",
    "\n",
    "- select Continent as Benua, count(name) as Jumlah_Negara, sum(population) as Populasi, avg(LifeExpectancy) as Rata_AngkaHrpnHdp\n",
    "    - from country\n",
    "    - group by continent\n",
    "    - having populasi > 10\n",
    "    - order by populasi desc;"
   ]
  },
  {
   "cell_type": "markdown",
   "metadata": {},
   "source": [
    "---\n",
    "### Soal 5\n",
    "\n",
    "5) Tampilkan daftar negara-negara Asia yang memiliki angka harapan hidup lebih dari rata-rata angka harapan hidup negara-negara Eropa.\n",
    "- Kolom yang diwajibkan ada yaitu nama negara, nama benua, angka harapan hidup dan Pendapatan Nasional Bruto/GNP (Gross National Product). Urutkan data dari negara Asia dengan angka harapan hidup tertinggi."
   ]
  },
  {
   "cell_type": "markdown",
   "metadata": {},
   "source": [
    "### Jawaban 5\n",
    "\n",
    "- select name as Nama, continent as Benua, LifeExpectancy as AngkaHarapanHidup, GNP\n",
    "    - from country\n",
    "    - where continent = 'Asia' and LifeExpectancy >\n",
    "    - (select avg(LifeExpectancy) from country where continent = 'Europe')\n",
    "    - order by AngkaHarapanHidup desc;"
   ]
  },
  {
   "cell_type": "markdown",
   "metadata": {},
   "source": [
    "---\n",
    "### Soal 6\n",
    "\n",
    "6) Tampilkan daftar 10 negara yang bahasa resminya (official language) adalah bahasa Inggris, dan memiliki persentase pengguna bahasa Inggris tertinggi di dunia.\n",
    "- Kolom yang diwajibkan ada yaitu kode negara, nama negara, bahasa, kolom isOfficial dan percentage. Urutkan dari persentase pengguna bahasa Inggris tertinggi."
   ]
  },
  {
   "cell_type": "markdown",
   "metadata": {},
   "source": [
    "### Answer 6\n",
    "\n",
    "- select countrycode, name, language, IsOfficial, Percentage\n",
    "    - from countrylanguage\n",
    "    - inner join country on\n",
    "    - countrylanguage.countrycode = country.code\n",
    "    - where language = 'English' and IsOfficial = 'T'\n",
    "    - order by percentage desc\n",
    "    - limit 10;\n",
    "    "
   ]
  },
  {
   "cell_type": "markdown",
   "metadata": {},
   "source": [
    "---\n",
    "### Soal 7\n",
    "\n",
    "7) Tampilkan daftar negara ASEAN beserta populasi negaranya, Pendapatan Nasional Bruto/GNP (Gross National Product), ibukota & populasi ibukota.\n",
    "- Kolom yang diwajibkan ada yaitu nama negara, populasi negara, pendapatan nasional bruto (GNP), nama ibukota dan populasi ibukota. Urutkan berdasarkan abjad nama negara."
   ]
  },
  {
   "cell_type": "markdown",
   "metadata": {},
   "source": [
    "### Jawaban 7\n",
    "\n",
    "- select country.name as Negara_ASEAN, country.Population as Populasi_Negara, GNP, city.name as Ibukota, city.population as Populasi_Ibukota\n",
    "    - from country\n",
    "    - inner join city on\n",
    "    - country.capital = city.id\n",
    "    - where region = 'Southeast Asia'\n",
    "    - group by country.name\n",
    "    - order by country.name asc;\n",
    "    \n",
    "- select co.Name as Negara_Asean, co.Population as Populasi_Negara, GNP, ci.Name as Ibukota, ci.population as Populasi_Ibukota\n",
    "    - from country co\n",
    "    - left join city ci on\n",
    "    - co.capital = ci.id\n",
    "    - where co.region = 'southest asia'\n",
    "    - order by Negara_Asean;"
   ]
  },
  {
   "cell_type": "markdown",
   "metadata": {},
   "source": [
    "---\n",
    "### Soal 8\n",
    "\n",
    "8) Tampilkan daftar negara G20 beserta populasi negaranya, Pendapatan Nasional Bruto/GNP (Gross National Product), ibukota & populasi ibukota.\n",
    "- Kolom yang diwajibkan ada yaitu nama negara, populasi negara, pendapatan nasional bruto (GNP), nama ibukota dan populasi ibukota. Urutkan berdasarkan abjad nama negara."
   ]
  },
  {
   "cell_type": "markdown",
   "metadata": {},
   "source": [
    "### Jawaban 8\n",
    "\n",
    "- select country.name as Negara_G20, country.Population as Populasi_Negara, GNP, city.name as Ibukota, city.population as Populasi_Ibukota\n",
    "    - from country\n",
    "    - inner join city on\n",
    "    - country.capital = city.id\n",
    "    - where GNP > \n",
    "    - (select avg(GNP) from country)\n",
    "    - order by country.name asc\n",
    "    - limit 20;"
   ]
  },
  {
   "cell_type": "markdown",
   "metadata": {},
   "source": [
    "---\n",
    "## **MySQL Python**\n",
    "---"
   ]
  },
  {
   "cell_type": "code",
   "execution_count": 1,
   "metadata": {},
   "outputs": [],
   "source": [
    "import mysql.connector\n",
    "import pandas as pd"
   ]
  },
  {
   "cell_type": "markdown",
   "metadata": {},
   "source": [
    "### Create Connection"
   ]
  },
  {
   "cell_type": "code",
   "execution_count": 4,
   "metadata": {},
   "outputs": [],
   "source": [
    "mydb = mysql.connector.connect(\n",
    "    host = 'localhost',\n",
    "    user = 'root',\n",
    "    password = 'qwerty',\n",
    "    database = 'toko'\n",
    ")"
   ]
  },
  {
   "cell_type": "markdown",
   "metadata": {},
   "source": [
    "### Acces Tables in Database"
   ]
  },
  {
   "cell_type": "code",
   "execution_count": 5,
   "metadata": {},
   "outputs": [
    {
     "name": "stdout",
     "output_type": "stream",
     "text": [
      "[(1, 'Andi Santosa', 32, 68.3, 'Jakarta', 2010, None), (2, 'Budi Permana', 32, 88.1, 'Jakarta', 1999, None), (3, 'Cecep Sutisna', 35, 68.9, 'Bandung', 2000, None), (4, 'Dedi Hartanto', 32, 71.3, 'Salatiga', 1998, None), (5, 'Eva Soraya', 32, 48.1, 'Medan', 2015, None), (6, 'Farah Naimah', 29, 52.3, 'Surabaya', 2010, None), (7, 'Gianti Safitri', 22, 51.6, 'Bandung', 2017, None), (8, 'Hamzah Syah', 34, 66.0, 'Yogyakarta', 2008, None), (9, 'Irene Sukindar', 25, 49.3, 'Jakarta', 2016, None), (10, 'Joni Saputra', 28, 69.8, 'Yogyakarta', 2000, None), (11, 'Budi Raharja', 52, 70.0, 'Jakarta', 1998, None), (12, 'Andi Raharja', 35, 67.0, 'Jakarta', 2018, None)]\n"
     ]
    }
   ],
   "source": [
    "mycursor = mydb.cursor()\n",
    "query = 'select * from karyawan'\n",
    "\n",
    "mycursor.execute(query)\n",
    "myresult = mycursor.fetchall()\n",
    "print(myresult)"
   ]
  },
  {
   "cell_type": "code",
   "execution_count": 7,
   "metadata": {},
   "outputs": [
    {
     "data": {
      "text/plain": [
       "('No', 'Nama', 'Usia', 'Berat', 'Kota', 'Th', 'Data_In')"
      ]
     },
     "execution_count": 7,
     "metadata": {},
     "output_type": "execute_result"
    }
   ],
   "source": [
    "columns = mycursor.column_names\n",
    "columns"
   ]
  },
  {
   "cell_type": "code",
   "execution_count": 8,
   "metadata": {},
   "outputs": [
    {
     "data": {
      "text/html": [
       "<div>\n",
       "<style scoped>\n",
       "    .dataframe tbody tr th:only-of-type {\n",
       "        vertical-align: middle;\n",
       "    }\n",
       "\n",
       "    .dataframe tbody tr th {\n",
       "        vertical-align: top;\n",
       "    }\n",
       "\n",
       "    .dataframe thead th {\n",
       "        text-align: right;\n",
       "    }\n",
       "</style>\n",
       "<table border=\"1\" class=\"dataframe\">\n",
       "  <thead>\n",
       "    <tr style=\"text-align: right;\">\n",
       "      <th></th>\n",
       "      <th>No</th>\n",
       "      <th>Nama</th>\n",
       "      <th>Usia</th>\n",
       "      <th>Berat</th>\n",
       "      <th>Kota</th>\n",
       "      <th>Th</th>\n",
       "      <th>Data_In</th>\n",
       "    </tr>\n",
       "  </thead>\n",
       "  <tbody>\n",
       "    <tr>\n",
       "      <th>0</th>\n",
       "      <td>1</td>\n",
       "      <td>Andi Santosa</td>\n",
       "      <td>32</td>\n",
       "      <td>68.3</td>\n",
       "      <td>Jakarta</td>\n",
       "      <td>2010</td>\n",
       "      <td>None</td>\n",
       "    </tr>\n",
       "    <tr>\n",
       "      <th>1</th>\n",
       "      <td>2</td>\n",
       "      <td>Budi Permana</td>\n",
       "      <td>32</td>\n",
       "      <td>88.1</td>\n",
       "      <td>Jakarta</td>\n",
       "      <td>1999</td>\n",
       "      <td>None</td>\n",
       "    </tr>\n",
       "    <tr>\n",
       "      <th>2</th>\n",
       "      <td>3</td>\n",
       "      <td>Cecep Sutisna</td>\n",
       "      <td>35</td>\n",
       "      <td>68.9</td>\n",
       "      <td>Bandung</td>\n",
       "      <td>2000</td>\n",
       "      <td>None</td>\n",
       "    </tr>\n",
       "    <tr>\n",
       "      <th>3</th>\n",
       "      <td>4</td>\n",
       "      <td>Dedi Hartanto</td>\n",
       "      <td>32</td>\n",
       "      <td>71.3</td>\n",
       "      <td>Salatiga</td>\n",
       "      <td>1998</td>\n",
       "      <td>None</td>\n",
       "    </tr>\n",
       "    <tr>\n",
       "      <th>4</th>\n",
       "      <td>5</td>\n",
       "      <td>Eva Soraya</td>\n",
       "      <td>32</td>\n",
       "      <td>48.1</td>\n",
       "      <td>Medan</td>\n",
       "      <td>2015</td>\n",
       "      <td>None</td>\n",
       "    </tr>\n",
       "    <tr>\n",
       "      <th>5</th>\n",
       "      <td>6</td>\n",
       "      <td>Farah Naimah</td>\n",
       "      <td>29</td>\n",
       "      <td>52.3</td>\n",
       "      <td>Surabaya</td>\n",
       "      <td>2010</td>\n",
       "      <td>None</td>\n",
       "    </tr>\n",
       "    <tr>\n",
       "      <th>6</th>\n",
       "      <td>7</td>\n",
       "      <td>Gianti Safitri</td>\n",
       "      <td>22</td>\n",
       "      <td>51.6</td>\n",
       "      <td>Bandung</td>\n",
       "      <td>2017</td>\n",
       "      <td>None</td>\n",
       "    </tr>\n",
       "    <tr>\n",
       "      <th>7</th>\n",
       "      <td>8</td>\n",
       "      <td>Hamzah Syah</td>\n",
       "      <td>34</td>\n",
       "      <td>66.0</td>\n",
       "      <td>Yogyakarta</td>\n",
       "      <td>2008</td>\n",
       "      <td>None</td>\n",
       "    </tr>\n",
       "    <tr>\n",
       "      <th>8</th>\n",
       "      <td>9</td>\n",
       "      <td>Irene Sukindar</td>\n",
       "      <td>25</td>\n",
       "      <td>49.3</td>\n",
       "      <td>Jakarta</td>\n",
       "      <td>2016</td>\n",
       "      <td>None</td>\n",
       "    </tr>\n",
       "    <tr>\n",
       "      <th>9</th>\n",
       "      <td>10</td>\n",
       "      <td>Joni Saputra</td>\n",
       "      <td>28</td>\n",
       "      <td>69.8</td>\n",
       "      <td>Yogyakarta</td>\n",
       "      <td>2000</td>\n",
       "      <td>None</td>\n",
       "    </tr>\n",
       "    <tr>\n",
       "      <th>10</th>\n",
       "      <td>11</td>\n",
       "      <td>Budi Raharja</td>\n",
       "      <td>52</td>\n",
       "      <td>70.0</td>\n",
       "      <td>Jakarta</td>\n",
       "      <td>1998</td>\n",
       "      <td>None</td>\n",
       "    </tr>\n",
       "    <tr>\n",
       "      <th>11</th>\n",
       "      <td>12</td>\n",
       "      <td>Andi Raharja</td>\n",
       "      <td>35</td>\n",
       "      <td>67.0</td>\n",
       "      <td>Jakarta</td>\n",
       "      <td>2018</td>\n",
       "      <td>None</td>\n",
       "    </tr>\n",
       "  </tbody>\n",
       "</table>\n",
       "</div>"
      ],
      "text/plain": [
       "    No            Nama  Usia  Berat        Kota    Th Data_In\n",
       "0    1    Andi Santosa    32   68.3     Jakarta  2010    None\n",
       "1    2    Budi Permana    32   88.1     Jakarta  1999    None\n",
       "2    3   Cecep Sutisna    35   68.9     Bandung  2000    None\n",
       "3    4   Dedi Hartanto    32   71.3    Salatiga  1998    None\n",
       "4    5      Eva Soraya    32   48.1       Medan  2015    None\n",
       "5    6    Farah Naimah    29   52.3    Surabaya  2010    None\n",
       "6    7  Gianti Safitri    22   51.6     Bandung  2017    None\n",
       "7    8     Hamzah Syah    34   66.0  Yogyakarta  2008    None\n",
       "8    9  Irene Sukindar    25   49.3     Jakarta  2016    None\n",
       "9   10    Joni Saputra    28   69.8  Yogyakarta  2000    None\n",
       "10  11    Budi Raharja    52   70.0     Jakarta  1998    None\n",
       "11  12    Andi Raharja    35   67.0     Jakarta  2018    None"
      ]
     },
     "execution_count": 8,
     "metadata": {},
     "output_type": "execute_result"
    }
   ],
   "source": [
    "df = pd.DataFrame(myresult, columns=columns)\n",
    "df"
   ]
  },
  {
   "cell_type": "code",
   "execution_count": 9,
   "metadata": {},
   "outputs": [],
   "source": [
    "mydb_world = mysql.connector.connect(\n",
    "    host = 'localhost',\n",
    "    user = 'root',\n",
    "    password = 'qwerty',\n",
    "    database = 'world'\n",
    ")"
   ]
  },
  {
   "cell_type": "code",
   "execution_count": 22,
   "metadata": {},
   "outputs": [
    {
     "data": {
      "text/html": [
       "<div>\n",
       "<style scoped>\n",
       "    .dataframe tbody tr th:only-of-type {\n",
       "        vertical-align: middle;\n",
       "    }\n",
       "\n",
       "    .dataframe tbody tr th {\n",
       "        vertical-align: top;\n",
       "    }\n",
       "\n",
       "    .dataframe thead th {\n",
       "        text-align: right;\n",
       "    }\n",
       "</style>\n",
       "<table border=\"1\" class=\"dataframe\">\n",
       "  <thead>\n",
       "    <tr style=\"text-align: right;\">\n",
       "      <th></th>\n",
       "      <th>code</th>\n",
       "      <th>name</th>\n",
       "      <th>continent</th>\n",
       "      <th>region</th>\n",
       "      <th>tahun_merdeka</th>\n",
       "    </tr>\n",
       "  </thead>\n",
       "  <tbody>\n",
       "    <tr>\n",
       "      <th>0</th>\n",
       "      <td>CHN</td>\n",
       "      <td>China</td>\n",
       "      <td>Asia</td>\n",
       "      <td>Eastern Asia</td>\n",
       "      <td>-1523</td>\n",
       "    </tr>\n",
       "    <tr>\n",
       "      <th>1</th>\n",
       "      <td>ETH</td>\n",
       "      <td>Ethiopia</td>\n",
       "      <td>Africa</td>\n",
       "      <td>Eastern Africa</td>\n",
       "      <td>-1000</td>\n",
       "    </tr>\n",
       "    <tr>\n",
       "      <th>2</th>\n",
       "      <td>JPN</td>\n",
       "      <td>Japan</td>\n",
       "      <td>Asia</td>\n",
       "      <td>Eastern Asia</td>\n",
       "      <td>-660</td>\n",
       "    </tr>\n",
       "    <tr>\n",
       "      <th>3</th>\n",
       "      <td>DNK</td>\n",
       "      <td>Denmark</td>\n",
       "      <td>Europe</td>\n",
       "      <td>Nordic Countries</td>\n",
       "      <td>800</td>\n",
       "    </tr>\n",
       "    <tr>\n",
       "      <th>4</th>\n",
       "      <td>SWE</td>\n",
       "      <td>Sweden</td>\n",
       "      <td>Europe</td>\n",
       "      <td>Nordic Countries</td>\n",
       "      <td>836</td>\n",
       "    </tr>\n",
       "    <tr>\n",
       "      <th>5</th>\n",
       "      <td>FRA</td>\n",
       "      <td>France</td>\n",
       "      <td>Europe</td>\n",
       "      <td>Western Europe</td>\n",
       "      <td>843</td>\n",
       "    </tr>\n",
       "    <tr>\n",
       "      <th>6</th>\n",
       "      <td>SMR</td>\n",
       "      <td>San Marino</td>\n",
       "      <td>Europe</td>\n",
       "      <td>Southern Europe</td>\n",
       "      <td>885</td>\n",
       "    </tr>\n",
       "    <tr>\n",
       "      <th>7</th>\n",
       "      <td>GBR</td>\n",
       "      <td>United Kingdom</td>\n",
       "      <td>Europe</td>\n",
       "      <td>British Islands</td>\n",
       "      <td>1066</td>\n",
       "    </tr>\n",
       "    <tr>\n",
       "      <th>8</th>\n",
       "      <td>PRT</td>\n",
       "      <td>Portugal</td>\n",
       "      <td>Europe</td>\n",
       "      <td>Southern Europe</td>\n",
       "      <td>1143</td>\n",
       "    </tr>\n",
       "    <tr>\n",
       "      <th>9</th>\n",
       "      <td>AND</td>\n",
       "      <td>Andorra</td>\n",
       "      <td>Europe</td>\n",
       "      <td>Southern Europe</td>\n",
       "      <td>1278</td>\n",
       "    </tr>\n",
       "  </tbody>\n",
       "</table>\n",
       "</div>"
      ],
      "text/plain": [
       "  code            name continent            region  tahun_merdeka\n",
       "0  CHN           China      Asia      Eastern Asia          -1523\n",
       "1  ETH        Ethiopia    Africa    Eastern Africa          -1000\n",
       "2  JPN           Japan      Asia      Eastern Asia           -660\n",
       "3  DNK         Denmark    Europe  Nordic Countries            800\n",
       "4  SWE          Sweden    Europe  Nordic Countries            836\n",
       "5  FRA          France    Europe    Western Europe            843\n",
       "6  SMR      San Marino    Europe   Southern Europe            885\n",
       "7  GBR  United Kingdom    Europe   British Islands           1066\n",
       "8  PRT        Portugal    Europe   Southern Europe           1143\n",
       "9  AND         Andorra    Europe   Southern Europe           1278"
      ]
     },
     "execution_count": 22,
     "metadata": {},
     "output_type": "execute_result"
    }
   ],
   "source": [
    "mycursor1 = mydb_world.cursor()\n",
    "query1 = \"\"\"\n",
    "select code, name, continent, region, indepyear as tahun_merdeka from country \n",
    "where indepyear != 0 order by indepyear asc limit 10\n",
    "\"\"\"\n",
    "mycursor1.execute(query1)\n",
    "myresult1 = mycursor1.fetchall()\n",
    "df_world = pd.DataFrame(myresult1, columns = mycursor1.column_names)\n",
    "df_world"
   ]
  },
  {
   "cell_type": "code",
   "execution_count": 23,
   "metadata": {},
   "outputs": [
    {
     "data": {
      "text/html": [
       "<div>\n",
       "<style scoped>\n",
       "    .dataframe tbody tr th:only-of-type {\n",
       "        vertical-align: middle;\n",
       "    }\n",
       "\n",
       "    .dataframe tbody tr th {\n",
       "        vertical-align: top;\n",
       "    }\n",
       "\n",
       "    .dataframe thead th {\n",
       "        text-align: right;\n",
       "    }\n",
       "</style>\n",
       "<table border=\"1\" class=\"dataframe\">\n",
       "  <thead>\n",
       "    <tr style=\"text-align: right;\">\n",
       "      <th></th>\n",
       "      <th>Nama</th>\n",
       "      <th>Benua</th>\n",
       "      <th>AngkaHarapanHidup</th>\n",
       "      <th>GNP</th>\n",
       "    </tr>\n",
       "  </thead>\n",
       "  <tbody>\n",
       "    <tr>\n",
       "      <th>0</th>\n",
       "      <td>Macao</td>\n",
       "      <td>Asia</td>\n",
       "      <td>81.6</td>\n",
       "      <td>5749.0</td>\n",
       "    </tr>\n",
       "    <tr>\n",
       "      <th>1</th>\n",
       "      <td>Japan</td>\n",
       "      <td>Asia</td>\n",
       "      <td>80.7</td>\n",
       "      <td>3787042.0</td>\n",
       "    </tr>\n",
       "    <tr>\n",
       "      <th>2</th>\n",
       "      <td>Singapore</td>\n",
       "      <td>Asia</td>\n",
       "      <td>80.1</td>\n",
       "      <td>86503.0</td>\n",
       "    </tr>\n",
       "    <tr>\n",
       "      <th>3</th>\n",
       "      <td>Hong Kong</td>\n",
       "      <td>Asia</td>\n",
       "      <td>79.5</td>\n",
       "      <td>166448.0</td>\n",
       "    </tr>\n",
       "    <tr>\n",
       "      <th>4</th>\n",
       "      <td>Israel</td>\n",
       "      <td>Asia</td>\n",
       "      <td>78.6</td>\n",
       "      <td>97477.0</td>\n",
       "    </tr>\n",
       "    <tr>\n",
       "      <th>5</th>\n",
       "      <td>Jordan</td>\n",
       "      <td>Asia</td>\n",
       "      <td>77.4</td>\n",
       "      <td>7526.0</td>\n",
       "    </tr>\n",
       "    <tr>\n",
       "      <th>6</th>\n",
       "      <td>Cyprus</td>\n",
       "      <td>Asia</td>\n",
       "      <td>76.7</td>\n",
       "      <td>9333.0</td>\n",
       "    </tr>\n",
       "    <tr>\n",
       "      <th>7</th>\n",
       "      <td>Taiwan</td>\n",
       "      <td>Asia</td>\n",
       "      <td>76.4</td>\n",
       "      <td>256254.0</td>\n",
       "    </tr>\n",
       "    <tr>\n",
       "      <th>8</th>\n",
       "      <td>Kuwait</td>\n",
       "      <td>Asia</td>\n",
       "      <td>76.1</td>\n",
       "      <td>27037.0</td>\n",
       "    </tr>\n",
       "  </tbody>\n",
       "</table>\n",
       "</div>"
      ],
      "text/plain": [
       "        Nama Benua  AngkaHarapanHidup        GNP\n",
       "0      Macao  Asia               81.6     5749.0\n",
       "1      Japan  Asia               80.7  3787042.0\n",
       "2  Singapore  Asia               80.1    86503.0\n",
       "3  Hong Kong  Asia               79.5   166448.0\n",
       "4     Israel  Asia               78.6    97477.0\n",
       "5     Jordan  Asia               77.4     7526.0\n",
       "6     Cyprus  Asia               76.7     9333.0\n",
       "7     Taiwan  Asia               76.4   256254.0\n",
       "8     Kuwait  Asia               76.1    27037.0"
      ]
     },
     "execution_count": 23,
     "metadata": {},
     "output_type": "execute_result"
    }
   ],
   "source": [
    "mycursor2 = mydb_world.cursor()\n",
    "query2 = \"\"\"\n",
    "select name as Nama, continent as Benua, LifeExpectancy as AngkaHarapanHidup, GNP from country \n",
    "where continent = \"Asia\" and LifeExpectancy > (select avg(LifeExpectancy) from country where continent = \"Europe\") \n",
    "order by AngkaHarapanHidup desc\n",
    "\"\"\"\n",
    "mycursor2.execute(query2)\n",
    "myresult2 = mycursor2.fetchall()\n",
    "df_world1 = pd.DataFrame(myresult2, columns = mycursor2.column_names)\n",
    "df_world1"
   ]
  },
  {
   "cell_type": "code",
   "execution_count": null,
   "metadata": {},
   "outputs": [],
   "source": []
  }
 ],
 "metadata": {
  "kernelspec": {
   "display_name": "Python 3.8.2 32-bit",
   "language": "python",
   "name": "python38232bit1955536e7d6745fe834988394e8b848e"
  },
  "language_info": {
   "codemirror_mode": {
    "name": "ipython",
    "version": 3
   },
   "file_extension": ".py",
   "mimetype": "text/x-python",
   "name": "python",
   "nbconvert_exporter": "python",
   "pygments_lexer": "ipython3",
   "version": "3.8.2"
  }
 },
 "nbformat": 4,
 "nbformat_minor": 4
}
